{
  "cells": [
    {
      "cell_type": "markdown",
      "id": "017e9265",
      "metadata": {
        "id": "017e9265"
      },
      "source": [
        "# 영업 성공 여부 분류 경진대회"
      ]
    },
    {
      "cell_type": "markdown",
      "id": "acdab431",
      "metadata": {
        "id": "acdab431"
      },
      "source": [
        "## 1. 데이터 확인"
      ]
    },
    {
      "cell_type": "markdown",
      "id": "2b8341e8",
      "metadata": {
        "id": "2b8341e8"
      },
      "source": [
        "### 필수 라이브러리"
      ]
    },
    {
      "cell_type": "code",
      "execution_count": null,
      "id": "a315cc58",
      "metadata": {
        "id": "a315cc58"
      },
      "outputs": [],
      "source": [
        "import pandas as pd\n",
        "import numpy as np\n",
        "from sklearn.metrics import (\n",
        "    accuracy_score,\n",
        "    confusion_matrix,\n",
        "    f1_score,\n",
        "    precision_score,\n",
        "    recall_score,\n",
        ")\n",
        "\n",
        "from context_data import (\n",
        "    context_data_load,\n",
        "    context_data_split\n",
        ")\n",
        "\n",
        "import lightgbm as lgb\n",
        "import optuna"
      ]
    },
    {
      "cell_type": "markdown",
      "id": "412f98cc",
      "metadata": {
        "id": "412f98cc"
      },
      "source": [
        "### 데이터 셋 읽어오기 / 학습, 검증 데이터 분리"
      ]
    },
    {
      "cell_type": "code",
      "execution_count": null,
      "id": "37755839",
      "metadata": {},
      "outputs": [],
      "source": [
        "# DATA LOAD\n",
        "data = context_data_load()\n",
        "\n",
        "# Train/Valid Split\n",
        "data = context_data_split(data)"
      ]
    },
    {
      "cell_type": "code",
      "execution_count": null,
      "id": "cddd7e38",
      "metadata": {},
      "outputs": [],
      "source": [
        "data['train'] # 학습용 데이터 살펴보기"
      ]
    },
    {
      "cell_type": "code",
      "execution_count": null,
      "id": "27c9e205",
      "metadata": {
        "id": "27c9e205"
      },
      "outputs": [],
      "source": [
        "x_train, x_val, y_train, y_val = data['X_train'], data['X_valid'], data['y_train'], data['y_valid']"
      ]
    },
    {
      "cell_type": "markdown",
      "id": "79ecfa9b",
      "metadata": {
        "id": "79ecfa9b"
      },
      "source": [
        "## 3. 모델 학습"
      ]
    },
    {
      "cell_type": "markdown",
      "id": "3caf257b",
      "metadata": {
        "id": "3caf257b"
      },
      "source": [
        "### 모델 정의/학습"
      ]
    },
    {
      "cell_type": "code",
      "execution_count": null,
      "id": "dbefbdbf",
      "metadata": {},
      "outputs": [],
      "source": [
        "train_data = lgb.Dataset(x_train, label=y_train, categorical_feature = data['cat_columns'])\n",
        "validation_data = lgb.Dataset(x_val, label=y_val, categorical_feature = data['cat_columns'])"
      ]
    },
    {
      "cell_type": "code",
      "execution_count": null,
      "id": "06af3266",
      "metadata": {},
      "outputs": [],
      "source": [
        "params = {\n",
        "    'boosting_type': 'gbdt',\n",
        "    'objective': 'binary',\n",
        "    'metric': 'binary_error',\n",
        "    'num_leaves': 31,\n",
        "    'learning_rate': 0.05,\n",
        "    'feature_fraction': 0.9,\n",
        "    'bagging_fraction': 0.8,\n",
        "    'bagging_freq': 5,\n",
        "    'verbose': 0,\n",
        "    'num_boost_round ' : 100 # 수정\n",
        "    # 'device' : 'gpu'\n",
        "}"
      ]
    },
    {
      "cell_type": "code",
      "execution_count": null,
      "id": "479da82e",
      "metadata": {},
      "outputs": [],
      "source": [
        "model = lgb.train(params, train_data, valid_sets=[validation_data])"
      ]
    },
    {
      "cell_type": "markdown",
      "id": "7c2d0038",
      "metadata": {},
      "source": [
        "### 하이퍼파라미터 튜닝"
      ]
    },
    {
      "cell_type": "code",
      "execution_count": null,
      "id": "0bcef397",
      "metadata": {},
      "outputs": [],
      "source": [
        "def objective(trial):\n",
        "    param = {\n",
        "        \"objective\": \"binary\",\n",
        "        \"metric\": \"binary_logloss\",\n",
        "        \"verbosity\": -1,\n",
        "        \"boosting_type\": \"gbdt\",\n",
        "        'feature_pre_filter': trial.suggest_categorical('feature_pre_filter', [False]),\n",
        "        \"lambda_l1\": trial.suggest_float(\"lambda_l1\", 1e-8, 10.0, log=True),\n",
        "        \"lambda_l2\": trial.suggest_float(\"lambda_l2\", 1e-8, 10.0, log=True),\n",
        "        \"num_leaves\": trial.suggest_int(\"num_leaves\", 2, 256),\n",
        "        \"feature_fraction\": trial.suggest_float(\"feature_fraction\", 0.4, 1.0),\n",
        "        \"bagging_fraction\": trial.suggest_float(\"bagging_fraction\", 0.4, 1.0),\n",
        "        \"bagging_freq\": trial.suggest_int(\"bagging_freq\", 1, 7),\n",
        "        \"min_child_samples\": trial.suggest_int(\"min_child_samples\", 5, 100),\n",
        "        \n",
        "    }\n",
        "\n",
        "    train_data = lgb.Dataset(x_train, label=y_train)\n",
        "    validation_data = lgb.Dataset(x_val, label=y_val)\n",
        "\n",
        "    model = lgb.train(param, train_data)\n",
        "    preds = model.predict(x_val)\n",
        "    pred_labels = np.rint(preds)\n",
        "    F1 = f1_score(y_val, pred_labels)\n",
        "    return F1\n"
      ]
    },
    {
      "cell_type": "code",
      "execution_count": null,
      "id": "cf5ddcd8",
      "metadata": {},
      "outputs": [],
      "source": [
        "study = optuna.create_study(direction=\"maximize\")\n",
        "study.optimize(objective, n_trials=100)"
      ]
    },
    {
      "cell_type": "code",
      "execution_count": null,
      "metadata": {},
      "outputs": [],
      "source": [
        "print('Best parameters:', study.best_params)\n",
        "print('Best value:', study.best_value)\n",
        "print('Best trial:', study.best_trial)"
      ]
    },
    {
      "cell_type": "code",
      "execution_count": null,
      "id": "0a868a63",
      "metadata": {},
      "outputs": [],
      "source": [
        "train_data = lgb.Dataset(x_train, label=y_train, categorical_feature = data['cat_columns'])\n",
        "validation_data = lgb.Dataset(x_val, label=y_val, categorical_feature = data['cat_columns'])\n",
        "\n",
        "model = lgb.train(study.best_params, train_data)"
      ]
    },
    {
      "cell_type": "markdown",
      "id": "6bf2de5f",
      "metadata": {
        "id": "6bf2de5f"
      },
      "source": [
        "### 모델 성능 보기"
      ]
    },
    {
      "cell_type": "code",
      "execution_count": null,
      "id": "c8871444",
      "metadata": {
        "id": "c8871444"
      },
      "outputs": [],
      "source": [
        "def get_clf_eval(y_test, y_pred=None):\n",
        "    confusion = confusion_matrix(y_test, y_pred, labels=[True, False])\n",
        "    accuracy = accuracy_score(y_test, y_pred)\n",
        "    precision = precision_score(y_test, y_pred, labels=[True, False])\n",
        "    recall = recall_score(y_test, y_pred)\n",
        "    F1 = f1_score(y_test, y_pred, labels=[True, False])\n",
        "\n",
        "    print(\"오차행렬:\\n\", confusion)\n",
        "    print(\"\\n정확도: {:.4f}\".format(accuracy))\n",
        "    print(\"정밀도: {:.4f}\".format(precision))\n",
        "    print(\"재현율: {:.4f}\".format(recall))\n",
        "    print(\"F1: {:.4f}\".format(F1))"
      ]
    },
    {
      "cell_type": "code",
      "execution_count": null,
      "id": "56a86373",
      "metadata": {
        "id": "56a86373",
        "outputId": "3dedb19f-c4b9-48ea-de15-149c39ea2398"
      },
      "outputs": [],
      "source": [
        "pred = model.predict(x_val)\n",
        "pred = [1 if x >= 0.5 else 0 for x in pred]\n",
        "get_clf_eval(y_val, pred)"
      ]
    },
    {
      "cell_type": "markdown",
      "id": "7adf8300",
      "metadata": {
        "id": "7adf8300"
      },
      "source": [
        "## 4. 제출하기"
      ]
    },
    {
      "cell_type": "markdown",
      "id": "9d0b6e17",
      "metadata": {
        "id": "9d0b6e17"
      },
      "source": [
        "### 테스트 데이터 예측"
      ]
    },
    {
      "cell_type": "code",
      "execution_count": null,
      "id": "43daa73c",
      "metadata": {
        "id": "43daa73c"
      },
      "outputs": [],
      "source": [
        "# 예측에 필요한 데이터 분리\n",
        "test_pred = model.predict(data['test'].drop([\"is_converted\", \"id\"], axis=1))"
      ]
    },
    {
      "cell_type": "code",
      "execution_count": null,
      "id": "d13f7a6e",
      "metadata": {
        "id": "d13f7a6e",
        "outputId": "4b9a4cf4-a7c6-468e-e37d-25cef7c2c223"
      },
      "outputs": [],
      "source": [
        "test_pred = [1 if x >= 0.5 else 0 for x in test_pred]\n",
        "sum(test_pred) # True로 예측된 개수"
      ]
    },
    {
      "cell_type": "markdown",
      "id": "47f18e6a",
      "metadata": {
        "id": "47f18e6a"
      },
      "source": [
        "### 제출 파일 작성"
      ]
    },
    {
      "cell_type": "code",
      "execution_count": null,
      "id": "3128a458",
      "metadata": {
        "id": "3128a458"
      },
      "outputs": [],
      "source": [
        "# 제출 데이터 읽어오기 (df_test는 전처리된 데이터가 저장됨)\n",
        "df_sub = pd.read_csv(\"submission.csv\")\n",
        "df_sub[\"is_converted\"] = test_pred\n",
        "df_sub[\"is_converted\"] = df_sub[\"is_converted\"].astype(bool)\n",
        "df_sub"
      ]
    },
    {
      "cell_type": "code",
      "execution_count": null,
      "id": "be375a94",
      "metadata": {},
      "outputs": [],
      "source": [
        "# 제출 파일 저장\n",
        "df_sub.to_csv(\"submission.csv\", index=False)"
      ]
    },
    {
      "cell_type": "markdown",
      "id": "ec7867ce",
      "metadata": {
        "id": "ec7867ce"
      },
      "source": [
        "**우측 상단의 제출 버튼을 클릭해 결과를 확인하세요**"
      ]
    }
  ],
  "metadata": {
    "colab": {
      "provenance": []
    },
    "kernelspec": {
      "display_name": "b2best",
      "language": "python",
      "name": "conda"
    },
    "language_info": {
      "codemirror_mode": {
        "name": "ipython",
        "version": 3
      },
      "file_extension": ".py",
      "mimetype": "text/x-python",
      "name": "python",
      "nbconvert_exporter": "python",
      "pygments_lexer": "ipython3",
      "version": "3.10.9"
    }
  },
  "nbformat": 4,
  "nbformat_minor": 5
}
