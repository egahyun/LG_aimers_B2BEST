{
 "cells": [
  {
   "cell_type": "markdown",
   "id": "017e9265",
   "metadata": {},
   "source": [
    "# 영업 성공 여부 분류 경진대회"
   ]
  },
  {
   "cell_type": "markdown",
   "id": "acdab431",
   "metadata": {},
   "source": [
    "## 1. 데이터 확인"
   ]
  },
  {
   "cell_type": "markdown",
   "id": "2b8341e8",
   "metadata": {},
   "source": [
    "### 필수 라이브러리"
   ]
  },
  {
   "cell_type": "code",
   "execution_count": null,
   "id": "a315cc58",
   "metadata": {},
   "outputs": [],
   "source": [
    "import pandas as pd\n",
    "import numpy as np\n",
    "# 모델링\n",
    "from sklearn.ensemble import RandomForestClassifier, RandomForestRegressor\n",
    "import optuna\n",
    "from optuna.samplers import TPESampler\n",
    "\n",
    "from sklearn.metrics import (\n",
    "    accuracy_score,\n",
    "    confusion_matrix,\n",
    "    f1_score,\n",
    "    precision_score,\n",
    "    recall_score,\n",
    "    mean_squared_error\n",
    ")\n",
    "from context_data import (\n",
    "    context_data_load,\n",
    "    context_data_split\n",
    ")"
   ]
  },
  {
   "cell_type": "markdown",
   "id": "412f98cc",
   "metadata": {},
   "source": [
    "### 데이터 셋 읽어오기 / 학습, 검증 데이터 분리"
   ]
  },
  {
   "cell_type": "code",
   "execution_count": null,
   "id": "aa2af1da",
   "metadata": {},
   "outputs": [],
   "source": [
    "# DATA LOAD\n",
    "data = context_data_load()\n",
    "\n",
    "# Train/Valid Split\n",
    "data = context_data_split(data)"
   ]
  },
  {
   "cell_type": "code",
   "execution_count": null,
   "id": "7519ffbb",
   "metadata": {},
   "outputs": [],
   "source": [
    "data['train'] # 학습용 데이터 살펴보기"
   ]
  },
  {
   "cell_type": "code",
   "execution_count": null,
   "id": "6d7bc575",
   "metadata": {},
   "outputs": [],
   "source": [
    "x_train, x_val, y_train, y_val = data['X_train'], data['X_valid'], data['y_train'], data['y_valid']"
   ]
  },
  {
   "cell_type": "code",
   "execution_count": null,
   "id": "48f7a5f1",
   "metadata": {},
   "outputs": [],
   "source": [
    "selected_features = ['customer_idx', 'customer_type', 'enterprise_count', 'lead_owner', 'response_corporate', 'com_reg_ver_win_rate', 'com_reg_count', 'bant_submit', 'customer_country', 'inquiry_type', 'product_subcategory', 'product_category', 'business_unit', 'enterprise_weight', 'business_subarea', 'lead_log', 'idx_count', 'historical_existing_cnt', 'lead_desc_length', 'category']"
   ]
  },
  {
   "cell_type": "code",
   "execution_count": null,
   "id": "0b4cc380",
   "metadata": {},
   "outputs": [],
   "source": [
    "# 선택된 변수로만 데이터셋 구성\n",
    "x_train = x_train[selected_features]\n",
    "x_val = x_val[selected_features]"
   ]
  },
  {
   "cell_type": "markdown",
   "id": "79ecfa9b",
   "metadata": {},
   "source": [
    "## 3. 모델"
   ]
  },
  {
   "cell_type": "markdown",
   "id": "91c635c7",
   "metadata": {},
   "source": [
    "### 3-1. RandomForestRegressor 학습"
   ]
  },
  {
   "cell_type": "markdown",
   "id": "3caf257b",
   "metadata": {},
   "source": [
    "#### 모델 정의 "
   ]
  },
  {
   "cell_type": "code",
   "execution_count": null,
   "id": "e4509af0",
   "metadata": {},
   "outputs": [],
   "source": [
    "# Instantiate model \n",
    "model = RandomForestRegressor(random_state=42)"
   ]
  },
  {
   "cell_type": "markdown",
   "id": "cacd5ed8",
   "metadata": {},
   "source": [
    "#### 모델 학습"
   ]
  },
  {
   "cell_type": "code",
   "execution_count": null,
   "id": "766d1980",
   "metadata": {},
   "outputs": [],
   "source": [
    "# Train the model on training data\n",
    "model.fit(x_train.fillna(0), y_train)"
   ]
  },
  {
   "cell_type": "markdown",
   "id": "86cb1d5e",
   "metadata": {},
   "source": [
    "### 3-2. RandomForestRegressor 하이퍼파라미터 튜닝"
   ]
  },
  {
   "cell_type": "code",
   "execution_count": null,
   "id": "516d27f5",
   "metadata": {},
   "outputs": [],
   "source": [
    "def objective(trial):\n",
    "    model = RandomForestRegressor(\n",
    "        n_estimators=trial.suggest_int(\"n_estimators\", 100, 500),\n",
    "        max_depth=trial.suggest_int(\"max_depth\", 3, 6),\n",
    "        min_samples_split=trial.suggest_int(\"min_samples_split\", 2, 10),\n",
    "        min_samples_leaf=trial.suggest_int(\"min_samples_leaf\", 1, 10),\n",
    "        bootstrap=trial.suggest_categorical(\"bootstrap\", [True, False]),\n",
    "        random_state=42  # Setting random_state for reproducibility\n",
    "    )\n",
    "\n",
    "    # 새로운 데이터셋으로 모델 재학습  \n",
    "    model.fit(x_train, y_train)\n",
    "    y_pred = model.predict(x_val)\n",
    "    return mean_squared_error(y_val, y_pred)\n",
    "\n",
    "optuna.logging.set_verbosity(optuna.logging.WARNING)\n",
    "\n",
    "sampler = TPESampler(seed=1)\n",
    "study = optuna.create_study(study_name=\"random_forest_regressor\", direction=\"minimize\", sampler=sampler)\n",
    "study.optimize(objective, n_trials=1000)\n",
    "\n",
    "print(\"Number of finished trials: \", len(study.trials))\n",
    "print(\"Best trial:\")\n",
    "trial = study.best_trial\n",
    "print(\"  Value: \", trial.value)\n",
    "print(\"  Params: \")\n",
    "for key, value in trial.params.items():\n",
    "    print(\"    {}: {}\".format(key, value))"
   ]
  },
  {
   "cell_type": "code",
   "execution_count": null,
   "id": "0dfca44b",
   "metadata": {},
   "outputs": [],
   "source": [
    "model = RandomForestRegressor(**trial.params, verbose=False)"
   ]
  },
  {
   "cell_type": "code",
   "execution_count": null,
   "id": "14dd1cab",
   "metadata": {},
   "outputs": [],
   "source": [
    "model.fit(x_train, y_train)"
   ]
  },
  {
   "cell_type": "markdown",
   "id": "6001883a",
   "metadata": {},
   "source": [
    "### 3-3. Randomclassifier 학습"
   ]
  },
  {
   "cell_type": "markdown",
   "id": "77c5a19c",
   "metadata": {},
   "source": [
    "#### 모델 정의 "
   ]
  },
  {
   "cell_type": "code",
   "execution_count": null,
   "id": "6b14bd37",
   "metadata": {},
   "outputs": [],
   "source": [
    "# Instantiate model \n",
    "model = RandomForestClassifier(random_state=42)"
   ]
  },
  {
   "cell_type": "markdown",
   "id": "0fbd5219",
   "metadata": {},
   "source": [
    "#### 모델 학습"
   ]
  },
  {
   "cell_type": "code",
   "execution_count": null,
   "id": "ce74e0c5",
   "metadata": {},
   "outputs": [],
   "source": [
    "# Train the model on training data\n",
    "model.fit(x_train.fillna(0), y_train)"
   ]
  },
  {
   "cell_type": "markdown",
   "id": "04440b4f",
   "metadata": {},
   "source": [
    "### 3-4. Randomclassifier 하이퍼파라미터 튜닝"
   ]
  },
  {
   "cell_type": "code",
   "execution_count": null,
   "id": "28ef9017",
   "metadata": {},
   "outputs": [],
   "source": [
    "def objective(trial):\n",
    "    model = RandomForestClassifier(\n",
    "        n_estimators=trial.suggest_int(\"n_estimators\", 100, 500),\n",
    "        max_depth=trial.suggest_int(\"max_depth\", 3, 6),\n",
    "        min_samples_split=trial.suggest_int(\"min_samples_split\", 2, 10),\n",
    "        min_samples_leaf=trial.suggest_int(\"min_samples_leaf\", 1, 10),\n",
    "        bootstrap=trial.suggest_categorical(\"bootstrap\", [True, False]),\n",
    "        random_state=42  # Setting random_state for reproducibility\n",
    "    )\n",
    "    model.fit(x_train, y_train)\n",
    "    y_pred = model.predict(x_val)\n",
    "    return f1_score(y_val, y_pred, labels=[True, False])\n",
    "\n",
    "optuna.logging.set_verbosity(optuna.logging.WARNING)\n",
    "\n",
    "sampler = TPESampler(seed=1)\n",
    "study = optuna.create_study(study_name=\"random_forest_classifier\", direction=\"maximize\", sampler=sampler)\n",
    "study.optimize(objective, n_trials=500)\n",
    "\n",
    "print(\"Number of finished trials: \", len(study.trials))\n",
    "print(\"Best trial:\")\n",
    "trial = study.best_trial\n",
    "print(\"  Value: \", trial.value)\n",
    "print(\"  Params: \")\n",
    "for key, value in trial.params.items():\n",
    "    print(\"    {}: {}\".format(key, value))"
   ]
  },
  {
   "cell_type": "code",
   "execution_count": null,
   "id": "852f852b",
   "metadata": {},
   "outputs": [],
   "source": [
    "model = RandomForestClassifier(**trial.params, verbose=False)"
   ]
  },
  {
   "cell_type": "code",
   "execution_count": null,
   "id": "e76e2f95",
   "metadata": {},
   "outputs": [],
   "source": [
    "model.fit(x_train, y_train)"
   ]
  },
  {
   "cell_type": "markdown",
   "id": "6bf2de5f",
   "metadata": {},
   "source": [
    "### 모델 성능 보기"
   ]
  },
  {
   "cell_type": "code",
   "execution_count": null,
   "id": "c8871444",
   "metadata": {},
   "outputs": [],
   "source": [
    "def get_clf_eval(y_test, y_pred=None):\n",
    "    confusion = confusion_matrix(y_test, y_pred, labels=[True, False])\n",
    "    accuracy = accuracy_score(y_test, y_pred)\n",
    "    precision = precision_score(y_test, y_pred, labels=[True, False])\n",
    "    recall = recall_score(y_test, y_pred)\n",
    "    F1 = f1_score(y_test, y_pred, labels=[True, False])\n",
    "\n",
    "    print(\"오차행렬:\\n\", confusion)\n",
    "    print(\"\\n정확도: {:.4f}\".format(accuracy))\n",
    "    print(\"정밀도: {:.4f}\".format(precision))\n",
    "    print(\"재현율: {:.4f}\".format(recall))\n",
    "    print(\"F1: {:.4f}\".format(F1))"
   ]
  },
  {
   "cell_type": "code",
   "execution_count": null,
   "id": "56a86373",
   "metadata": {
    "scrolled": true
   },
   "outputs": [],
   "source": [
    "# classifier\n",
    "pred = model.predict(x_val.fillna(0))\n",
    "#pred  = pred.astype(bool)\n",
    "get_clf_eval(y_val, pred)"
   ]
  },
  {
   "cell_type": "code",
   "execution_count": null,
   "id": "a547300d",
   "metadata": {},
   "outputs": [],
   "source": [
    "#regressor\n",
    "pred = model.predict(x_val)\n",
    "pred = [1 if x >= 0.5 else 0 for x in pred]\n",
    "get_clf_eval(y_val, pred)"
   ]
  },
  {
   "cell_type": "markdown",
   "id": "7adf8300",
   "metadata": {},
   "source": [
    "## 4. 제출하기"
   ]
  },
  {
   "cell_type": "markdown",
   "id": "9d0b6e17",
   "metadata": {},
   "source": [
    "### 테스트 데이터 예측"
   ]
  },
  {
   "cell_type": "code",
   "execution_count": null,
   "id": "43daa73c",
   "metadata": {},
   "outputs": [],
   "source": [
    "# 예측에 필요한 데이터 분리\n",
    "test_pred = model.predict(data['test'].drop([\"is_converted\", \"id\"], axis=1))"
   ]
  },
  {
   "cell_type": "code",
   "execution_count": null,
   "id": "d13f7a6e",
   "metadata": {},
   "outputs": [],
   "source": [
    "#classifier\n",
    "sum(test_pred) # True로 예측된 개수"
   ]
  },
  {
   "cell_type": "code",
   "execution_count": null,
   "id": "4a884634",
   "metadata": {},
   "outputs": [],
   "source": [
    "#Regressor\n",
    "test_pred = [True if x >= 0.5 else False for x in test_pred]\n",
    "sum(test_pred) # True로 예측된 개수"
   ]
  },
  {
   "cell_type": "code",
   "execution_count": null,
   "id": "395a4b7d",
   "metadata": {},
   "outputs": [],
   "source": [
    "# 변수명을 가져오기\n",
    "feature_names = x_train.columns\n",
    "\n",
    "# 변수 중요도 출력\n",
    "importances = model.feature_importances_\n",
    "\n",
    "# 변수명과 중요도\n",
    "for feature, imp in zip(feature_names, importances):\n",
    "    print(f\"{feature}: {imp}\")"
   ]
  },
  {
   "cell_type": "code",
   "execution_count": null,
   "id": "3d1badaa",
   "metadata": {},
   "outputs": [],
   "source": [
    "len(feature_names), len(importances)"
   ]
  },
  {
   "cell_type": "code",
   "execution_count": null,
   "id": "696265ea",
   "metadata": {},
   "outputs": [],
   "source": [
    "import matplotlib.pyplot as plt\n",
    "\n",
    "# 변수 중요도를 가져와 DataFrame으로 변환\n",
    "importances_df = pd.DataFrame({'Feature': x_train.columns, 'Importance': model.feature_importances_})\n",
    "\n",
    "# 변수 중요도를 Importance 기준으로 내림차순 정렬\n",
    "importances_df = importances_df.sort_values(by='Importance', ascending=True)\n",
    "\n",
    "# 변수 중요도를 막대 그래프로 시각화\n",
    "plt.figure(figsize=(10, 6))\n",
    "plt.barh(importances_df['Feature'], importances_df['Importance'], color='purple')\n",
    "plt.xlabel('Importance')\n",
    "plt.ylabel('Feature')\n",
    "plt.title('Feature Importance')\n",
    "plt.show()"
   ]
  },
  {
   "cell_type": "markdown",
   "id": "47f18e6a",
   "metadata": {},
   "source": [
    "### 제출 파일 작성"
   ]
  },
  {
   "cell_type": "code",
   "execution_count": null,
   "id": "62c683de",
   "metadata": {},
   "outputs": [],
   "source": [
    "# 제출 데이터 읽어오기 (df_test는 전처리된 데이터가 저장됨)\n",
    "df_sub = pd.read_csv(\"submission.csv\")\n",
    "df_sub[\"is_converted\"] = test_pred\n",
    "df_sub[\"is_converted\"] = df_sub[\"is_converted\"].astype(bool)\n",
    "df_sub"
   ]
  },
  {
   "cell_type": "code",
   "execution_count": null,
   "id": "3128a458",
   "metadata": {},
   "outputs": [],
   "source": [
    "# 제출 파일 저장\n",
    "df_sub.to_csv(\"submission.csv\", index=False)"
   ]
  },
  {
   "cell_type": "code",
   "execution_count": null,
   "id": "95a5fbbd",
   "metadata": {},
   "outputs": [],
   "source": [
    "# 제출 파일 저장 (classifier)\n",
    "df_sub.to_csv(\"submission_rfc.csv\", index=False)"
   ]
  },
  {
   "cell_type": "code",
   "execution_count": null,
   "id": "e60a4816",
   "metadata": {},
   "outputs": [],
   "source": [
    "# 제출 파일 저장 (regressor)\n",
    "df_sub.to_csv(\"submission_rfr.csv\", index=False)"
   ]
  },
  {
   "cell_type": "markdown",
   "id": "ec7867ce",
   "metadata": {},
   "source": [
    "**우측 상단의 제출 버튼을 클릭해 결과를 확인하세요**"
   ]
  }
 ],
 "metadata": {
  "kernelspec": {
   "display_name": "Python 3 (ipykernel)",
   "language": "python",
   "name": "python3"
  },
  "language_info": {
   "codemirror_mode": {
    "name": "ipython",
    "version": 3
   },
   "file_extension": ".py",
   "mimetype": "text/x-python",
   "name": "python",
   "nbconvert_exporter": "python",
   "pygments_lexer": "ipython3",
   "version": "3.11.0"
  }
 },
 "nbformat": 4,
 "nbformat_minor": 5
}
